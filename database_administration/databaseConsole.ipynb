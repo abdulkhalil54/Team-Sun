{
 "cells": [
  {
   "cell_type": "code",
   "execution_count": 18,
   "metadata": {},
   "outputs": [],
   "source": [
    "from databaseManager import databaseManager\n",
    "db = databaseManager()"
   ]
  },
  {
   "cell_type": "code",
   "execution_count": 20,
   "metadata": {},
   "outputs": [],
   "source": [
    "db.createTables()"
   ]
  },
  {
   "cell_type": "code",
   "execution_count": 19,
   "metadata": {},
   "outputs": [],
   "source": [
    "db.deleteTables()"
   ]
  },
  {
   "cell_type": "code",
   "execution_count": 23,
   "metadata": {},
   "outputs": [],
   "source": [
    "db.addSectionInfo()"
   ]
  },
  {
   "cell_type": "code",
   "execution_count": 21,
   "metadata": {},
   "outputs": [
    {
     "name": "stdout",
     "output_type": "stream",
     "text": [
      "('postgres', 'public', 'applicationinfo', 'BASE TABLE', None, None, None, None, None, 'YES', 'NO', None)\n",
      "('postgres', 'public', 'sectionsinfo', 'BASE TABLE', None, None, None, None, None, 'YES', 'NO', None)\n",
      "('postgres', 'public', 'sectionsapplicants', 'BASE TABLE', None, None, None, None, None, 'YES', 'NO', None)\n",
      "('postgres', 'public', 'users', 'BASE TABLE', None, None, None, None, None, 'YES', 'NO', None)\n",
      "('postgres', 'public', 'matchings', 'BASE TABLE', None, None, None, None, None, 'YES', 'NO', None)\n"
     ]
    }
   ],
   "source": [
    "db.listTables()"
   ]
  },
  {
   "cell_type": "code",
   "execution_count": 28,
   "metadata": {},
   "outputs": [
    {
     "name": "stdout",
     "output_type": "stream",
     "text": [
      "Contents of table applicationinfo are:\n",
      "('chinguun', 'Chinguun Erdenebileg', 'junior', 'A', 'prof1', 'prof1@umass.edu', 'https://attachments-429-manager-app.s3.amazonaws.com/chinguun-1684812285590-Chinguun%20Erdenebileg%20Resume.docx', [[1, 1], [2, 2], [3, 3], [4, 4]], 2)\n",
      "('aarushisingh', 'Aarushi Singh', 'junior', 'A', 'Professor Rattigan', 'mrattigan@umass.edu', 'https://attachments-429-manager-app.s3.amazonaws.com/aarushisingh-1684812300072-Database%20Tables%20Schema%20v1.3.pdf.pdf', [[1, 3], [2, 2], [3, 4], [4, 1]], 2)\n",
      "('rando', 'Random Student', 'sophomore', 'A-', 'prof2', 'prof2@umass.edu', 'https://attachments-429-manager-app.s3.amazonaws.com/rando-1684812339843-Chinguun%20Erdenebileg%20Resume.docx', [[1, 4], [2, 1], [3, 3], [4, 2]], 2)\n",
      "('belgianbunny', 'Lucy Bodtman', 'senior', 'A', 'Professor Rattigan', 'mrattigan@umass.edu', 'https://attachments-429-manager-app.s3.amazonaws.com/belgianbunny-1684812346215-Database%20Tables%20Schema%20v1.3.pdf.pdf', [[1, 3], [2, 2], [3, 1], [4, 4]], 2)\n",
      "('segev1151', ' Segev Moritz', 'senior', 'A', 'Professor Rattigan', 'mrattigan@umass.edu', 'https://attachments-429-manager-app.s3.amazonaws.com/segev1151-1684812406548-Database%20Tables%20Schema%20v1.3.pdf.pdf', [[1, 2], [2, 3], [3, 4], [4, 1]], 2)\n"
     ]
    }
   ],
   "source": [
    "db.listRows(\"applicationinfo\")"
   ]
  },
  {
   "cell_type": "code",
   "execution_count": 29,
   "metadata": {},
   "outputs": [
    {
     "name": "stdout",
     "output_type": "stream",
     "text": [
      "Contents of table sectionsinfo are:\n",
      "(1, 'Matt', 'rattigan', 'mrattigan@umass.edu', 'T/Th', '2:30-3:45 PM', 1, 0)\n",
      "(2, 'Random', 'Professor', 'random@umass.edu', 'M/W', '2:30-3:45 PM', 1, 0)\n",
      "(3, 'Mysterious', 'Professor', 'mysterious@umass.edu', 'T/Th', '4:00-5:15 PM', 1, 0)\n",
      "(4, 'My', 'Professor', 'myprofessor@umass.edu', 'T/Th', '8:30-9:45 AM', 2, 0)\n"
     ]
    }
   ],
   "source": [
    "db.listRows(\"sectionsinfo\")"
   ]
  },
  {
   "cell_type": "code",
   "execution_count": 30,
   "metadata": {},
   "outputs": [
    {
     "name": "stdout",
     "output_type": "stream",
     "text": [
      "Contents of table sectionsapplicants are:\n",
      "(1, 'chinguun', -1)\n",
      "(2, 'chinguun', -1)\n",
      "(3, 'chinguun', -1)\n",
      "(4, 'chinguun', -1)\n",
      "(1, 'aarushisingh', -1)\n",
      "(2, 'aarushisingh', -1)\n",
      "(3, 'aarushisingh', -1)\n",
      "(4, 'aarushisingh', -1)\n",
      "(1, 'rando', -1)\n",
      "(2, 'rando', -1)\n",
      "(3, 'rando', -1)\n",
      "(4, 'rando', -1)\n",
      "(1, 'belgianbunny', -1)\n",
      "(2, 'belgianbunny', -1)\n",
      "(3, 'belgianbunny', -1)\n",
      "(4, 'belgianbunny', -1)\n",
      "(1, 'segev1151', -1)\n",
      "(2, 'segev1151', -1)\n",
      "(3, 'segev1151', -1)\n",
      "(4, 'segev1151', -1)\n"
     ]
    }
   ],
   "source": [
    "db.listRows(\"sectionsapplicants\")"
   ]
  },
  {
   "cell_type": "code",
   "execution_count": 31,
   "metadata": {},
   "outputs": [
    {
     "name": "stdout",
     "output_type": "stream",
     "text": [
      "Contents of table users are:\n",
      "('chinguun', None, '$2b$10$o98dex4/UNIh91C35ELUYu8hOuuKBYuAP0xpxbDW7w8HWMdR3IwkS', False, 'chinguun', 'erdenebileg')\n",
      "('aarushisingh', None, '$2b$10$vSc8AnLI6SvQaM0Dbd0JB.wn1vdUo1GeWvj.CgDi0Kfz7tK.Gc/Eq', False, 'Aarushi', 'Singh')\n",
      "('rando', None, '$2b$10$Qas5zVn3McJMLWYm2YA8y.7kSZXv4vQpvkwEGkYI77v6mjSo.Pxwm', False, 'random', 'student')\n",
      "('belgianbunny', None, '$2b$10$ndHoE3c9LgKDrnFFN29gTekQELTEhTtXSl7W0vqx8Xgiq96tk72Be', False, 'Lucy', 'Bodtman')\n",
      "('segev1151', None, '$2b$10$qeb9Vbb1hr8h5LyoMeG4MOzADzvwEnPjeYD5xyI9aKIh/dXesdp.m', False, 'Segev', 'Moritz')\n"
     ]
    }
   ],
   "source": [
    "db.listRows(\"users\")"
   ]
  },
  {
   "cell_type": "code",
   "execution_count": 32,
   "metadata": {},
   "outputs": [
    {
     "name": "stdout",
     "output_type": "stream",
     "text": [
      "Contents of table matchings are:\n"
     ]
    }
   ],
   "source": [
    "db.listRows(\"matchings\")"
   ]
  },
  {
   "cell_type": "code",
   "execution_count": 16,
   "metadata": {},
   "outputs": [],
   "source": [
    "#db.emptyTable(\"sectionsapplicants\")"
   ]
  }
 ],
 "metadata": {
  "kernelspec": {
   "display_name": "Python 3",
   "language": "python",
   "name": "python3"
  },
  "language_info": {
   "codemirror_mode": {
    "name": "ipython",
    "version": 3
   },
   "file_extension": ".py",
   "mimetype": "text/x-python",
   "name": "python",
   "nbconvert_exporter": "python",
   "pygments_lexer": "ipython3",
   "version": "3.11.3"
  },
  "orig_nbformat": 4
 },
 "nbformat": 4,
 "nbformat_minor": 2
}
