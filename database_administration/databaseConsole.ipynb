{
 "cells": [
  {
   "cell_type": "code",
   "execution_count": 1,
   "metadata": {},
   "outputs": [],
   "source": [
    "from databaseManager import databaseManager\n",
    "db = databaseManager()"
   ]
  },
  {
   "cell_type": "code",
   "execution_count": 2,
   "metadata": {},
   "outputs": [],
   "source": [
    "db.createTables()"
   ]
  },
  {
   "cell_type": "code",
   "execution_count": 3,
   "metadata": {},
   "outputs": [
    {
     "name": "stdout",
     "output_type": "stream",
     "text": [
      "('postgres', 'public', 'applicationinfo', 'BASE TABLE', None, None, None, None, None, 'YES', 'NO', None)\n",
      "('postgres', 'public', 'sectionsinfo', 'BASE TABLE', None, None, None, None, None, 'YES', 'NO', None)\n",
      "('postgres', 'public', 'sectionsapplicants', 'BASE TABLE', None, None, None, None, None, 'YES', 'NO', None)\n",
      "('postgres', 'public', 'users', 'BASE TABLE', None, None, None, None, None, 'YES', 'NO', None)\n",
      "('postgres', 'public', 'matchings', 'BASE TABLE', None, None, None, None, None, 'YES', 'NO', None)\n"
     ]
    }
   ],
   "source": [
    "db.listTables()"
   ]
  },
  {
   "cell_type": "code",
   "execution_count": 6,
   "metadata": {},
   "outputs": [
    {
     "name": "stdout",
     "output_type": "stream",
     "text": [
      "Contents of table applicationInfo are:\n",
      "('chinguun', 'dasf', 'freshman', 'A', 'afds', 'daf', 'https://attachments-429-manager-app.s3.amazonaws.com/chinguun-1684795468901-FINAL%20Presentation.pdf', [[1, 1], [2, 3], [3, 2], [4, 4]], 2)\n"
     ]
    }
   ],
   "source": [
    "db.listRows(\"applicationInfo\")"
   ]
  },
  {
   "cell_type": "code",
   "execution_count": null,
   "metadata": {},
   "outputs": [],
   "source": [
    "db.deletetables()"
   ]
  },
  {
   "cell_type": "code",
   "execution_count": 7,
   "metadata": {},
   "outputs": [
    {
     "name": "stdout",
     "output_type": "stream",
     "text": [
      "Contents of table sectionsApplicants are:\n"
     ]
    }
   ],
   "source": [
    "db.listRows(\"sectionsApplicants\")"
   ]
  },
  {
   "cell_type": "code",
   "execution_count": 2,
   "metadata": {},
   "outputs": [],
   "source": [
    "db.addSectionInfo()"
   ]
  }
 ],
 "metadata": {
  "kernelspec": {
   "display_name": "Python 3",
   "language": "python",
   "name": "python3"
  },
  "language_info": {
   "codemirror_mode": {
    "name": "ipython",
    "version": 3
   },
   "file_extension": ".py",
   "mimetype": "text/x-python",
   "name": "python",
   "nbconvert_exporter": "python",
   "pygments_lexer": "ipython3",
   "version": "3.11.3"
  },
  "orig_nbformat": 4
 },
 "nbformat": 4,
 "nbformat_minor": 2
}
