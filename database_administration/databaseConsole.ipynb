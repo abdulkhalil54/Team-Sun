{
 "cells": [
  {
   "cell_type": "code",
   "execution_count": 2,
   "metadata": {},
   "outputs": [],
   "source": [
    "from databaseManager import databaseManager\n",
    "db = databaseManager()"
   ]
  },
  {
   "cell_type": "code",
   "execution_count": 3,
   "metadata": {},
   "outputs": [],
   "source": [
    "db.createTables()"
   ]
  },
  {
   "cell_type": "code",
   "execution_count": 4,
   "metadata": {},
   "outputs": [
    {
     "name": "stdout",
     "output_type": "stream",
     "text": [
      "('postgres', 'public', 'applicationinfo', 'BASE TABLE', None, None, None, None, None, 'YES', 'NO', None)\n",
      "('postgres', 'public', 'sectionsinfo', 'BASE TABLE', None, None, None, None, None, 'YES', 'NO', None)\n",
      "('postgres', 'public', 'sectionsapplicants', 'BASE TABLE', None, None, None, None, None, 'YES', 'NO', None)\n",
      "('postgres', 'public', 'users', 'BASE TABLE', None, None, None, None, None, 'YES', 'NO', None)\n",
      "('postgres', 'public', 'matchings', 'BASE TABLE', None, None, None, None, None, 'YES', 'NO', None)\n"
     ]
    }
   ],
   "source": [
    "db.listTables()"
   ]
  },
  {
   "cell_type": "code",
   "execution_count": 3,
   "metadata": {},
   "outputs": [
    {
     "name": "stdout",
     "output_type": "stream",
     "text": [
      "Contents of table sectionsApplicants are:\n",
      "(1, 'Ajolie', 1)\n",
      "(1, 'chinguun', 2)\n",
      "(1, '1234', 3)\n",
      "(1, 'fakepearson', 4)\n",
      "(1, 'aarushisingh', 5)\n",
      "(2, 'Ajolie', 1)\n",
      "(2, 'chinguun', 2)\n",
      "(2, '1234', 3)\n",
      "(2, 'fakepearson', 4)\n",
      "(2, 'aarushisingh', 5)\n",
      "(3, 'Ajolie', 4)\n",
      "(3, 'chinguun', 5)\n",
      "(3, '1234', 1)\n",
      "(3, 'fakepearson', 2)\n",
      "(3, 'aarushisingh', 3)\n",
      "(4, 'Ajolie', 2)\n",
      "(4, 'chinguun', 5)\n",
      "(4, '1234', 4)\n",
      "(4, 'fakepearson', 3)\n",
      "(4, 'aarushisingh', 1)\n"
     ]
    }
   ],
   "source": [
    "db.listRows(\"sectionsApplicants\")"
   ]
  },
  {
   "cell_type": "code",
   "execution_count": 2,
   "metadata": {},
   "outputs": [],
   "source": [
    "db.deleteTables()"
   ]
  },
  {
   "cell_type": "code",
   "execution_count": 10,
   "metadata": {},
   "outputs": [
    {
     "name": "stdout",
     "output_type": "stream",
     "text": [
      "Contents of table matchings are:\n",
      "(1, 'Ajolie')\n",
      "(2, 'chinguun')\n",
      "(3, '1234')\n",
      "(4, 'fakepearson')\n",
      "(4, 'aarushisingh')\n"
     ]
    }
   ],
   "source": [
    "db.listRows(\"matchings\")\n",
    "# (1, 'Ajolie')\n",
    "# (2, 'chinguun')\n",
    "# (3, '1234')\n",
    "# (4, 'fakepearson')\n",
    "# (4, 'aarushisingh')"
   ]
  },
  {
   "cell_type": "code",
   "execution_count": 4,
   "metadata": {},
   "outputs": [],
   "source": [
    "db.addSectionInfo()"
   ]
  }
 ],
 "metadata": {
  "kernelspec": {
   "display_name": "Python 3",
   "language": "python",
   "name": "python3"
  },
  "language_info": {
   "codemirror_mode": {
    "name": "ipython",
    "version": 3
   },
   "file_extension": ".py",
   "mimetype": "text/x-python",
   "name": "python",
   "nbconvert_exporter": "python",
   "pygments_lexer": "ipython3",
   "version": "3.11.3"
  },
  "orig_nbformat": 4
 },
 "nbformat": 4,
 "nbformat_minor": 2
}
