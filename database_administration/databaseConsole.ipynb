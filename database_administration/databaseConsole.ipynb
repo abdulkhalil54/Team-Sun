{
 "cells": [
  {
   "cell_type": "code",
   "execution_count": 1,
   "metadata": {},
   "outputs": [],
   "source": [
    "from databaseManager import databaseManager\n",
    "db = databaseManager()"
   ]
  },
  {
   "cell_type": "code",
   "execution_count": 8,
   "metadata": {},
   "outputs": [],
   "source": [
    "db.createTables()"
   ]
  },
  {
   "cell_type": "code",
   "execution_count": 7,
   "metadata": {},
   "outputs": [],
   "source": [
    "db.deleteTables()"
   ]
  },
  {
   "cell_type": "code",
   "execution_count": 9,
   "metadata": {},
   "outputs": [
    {
     "name": "stdout",
     "output_type": "stream",
     "text": [
      "('postgres', 'public', 'applicationinfo', 'BASE TABLE', None, None, None, None, None, 'YES', 'NO', None)\n",
      "('postgres', 'public', 'sectionsinfo', 'BASE TABLE', None, None, None, None, None, 'YES', 'NO', None)\n",
      "('postgres', 'public', 'sectionsapplicants', 'BASE TABLE', None, None, None, None, None, 'YES', 'NO', None)\n",
      "('postgres', 'public', 'users', 'BASE TABLE', None, None, None, None, None, 'YES', 'NO', None)\n",
      "('postgres', 'public', 'matchings', 'BASE TABLE', None, None, None, None, None, 'YES', 'NO', None)\n"
     ]
    }
   ],
   "source": [
    "db.listTables()"
   ]
  },
  {
   "cell_type": "code",
   "execution_count": 4,
   "metadata": {},
   "outputs": [
    {
     "name": "stdout",
     "output_type": "stream",
     "text": [
      "Contents of table sectionsInfo are:\n",
      "(1, 'T/Th', '2:30-3:45 PM', 15, 0)\n",
      "(2, 'M/W', '2:30-3:45 PM', 15, 0)\n",
      "(3, 'T/Th', '4:00-5:15 PM', 15, 0)\n",
      "(4, 'T/Th', '8:30-9:45 AM', 15, 0)\n"
     ]
    }
   ],
   "source": [
    "db.listRows(\"sectionsInfo\")"
   ]
  },
  {
   "cell_type": "code",
   "execution_count": 2,
   "metadata": {},
   "outputs": [],
   "source": [
    "db.addSectionInfo()"
   ]
  }
 ],
 "metadata": {
  "kernelspec": {
   "display_name": "Python 3",
   "language": "python",
   "name": "python3"
  },
  "language_info": {
   "codemirror_mode": {
    "name": "ipython",
    "version": 3
   },
   "file_extension": ".py",
   "mimetype": "text/x-python",
   "name": "python",
   "nbconvert_exporter": "python",
   "pygments_lexer": "ipython3",
   "version": "3.11.3"
  },
  "orig_nbformat": 4
 },
 "nbformat": 4,
 "nbformat_minor": 2
}
