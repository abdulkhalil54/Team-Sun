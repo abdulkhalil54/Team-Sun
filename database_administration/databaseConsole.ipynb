{
 "cells": [
  {
   "cell_type": "code",
   "execution_count": 1,
   "metadata": {},
   "outputs": [],
   "source": [
    "from databaseManager import databaseManager\n",
    "db = databaseManager()"
   ]
  },
  {
   "cell_type": "code",
   "execution_count": 4,
   "metadata": {},
   "outputs": [],
   "source": [
    "db.createTables()"
   ]
  },
  {
   "cell_type": "code",
   "execution_count": 3,
   "metadata": {},
   "outputs": [],
   "source": [
    "db.deleteTables()"
   ]
  },
  {
   "cell_type": "code",
   "execution_count": 6,
   "metadata": {},
   "outputs": [
    {
     "name": "stdout",
     "output_type": "stream",
     "text": [
      "('postgres', 'public', 'applicationinfo', 'BASE TABLE', None, None, None, None, None, 'YES', 'NO', None)\n",
      "('postgres', 'public', 'sections', 'BASE TABLE', None, None, None, None, None, 'YES', 'NO', None)\n",
      "('postgres', 'public', 'professors', 'BASE TABLE', None, None, None, None, None, 'YES', 'NO', None)\n",
      "('postgres', 'public', 'users', 'BASE TABLE', None, None, None, None, None, 'YES', 'NO', None)\n",
      "('postgres', 'public', 'matchings', 'BASE TABLE', None, None, None, None, None, 'YES', 'NO', None)\n"
     ]
    }
   ],
   "source": [
    "db.listTables()"
   ]
  },
  {
   "cell_type": "code",
   "execution_count": 5,
   "metadata": {},
   "outputs": [
    {
     "name": "stdout",
     "output_type": "stream",
     "text": [
      "Contents of table applicationInfo are:\n",
      "('bruh', 'Bullshit', 'freshman', 'A', 'asdf', 'adf', 'https://attachments-429-manager-app.s3.amazonaws.com/1684258622514-backend_API.txt', [[1, 1], [2, 1], [3, 1], [4, 1]], -1)\n"
     ]
    }
   ],
   "source": [
    "db.listRows(\"applicationInfo\")"
   ]
  }
 ],
 "metadata": {
  "kernelspec": {
   "display_name": "Python 3",
   "language": "python",
   "name": "python3"
  },
  "language_info": {
   "codemirror_mode": {
    "name": "ipython",
    "version": 3
   },
   "file_extension": ".py",
   "mimetype": "text/x-python",
   "name": "python",
   "nbconvert_exporter": "python",
   "pygments_lexer": "ipython3",
   "version": "3.11.3"
  },
  "orig_nbformat": 4
 },
 "nbformat": 4,
 "nbformat_minor": 2
}
